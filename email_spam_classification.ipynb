{
  "cells": [
    {
      "cell_type": "code",
      "source": [
        "!pip install nltk scikit-learn regex numpy pandas"
      ],
      "metadata": {
        "colab": {
          "base_uri": "https://localhost:8080/"
        },
        "id": "g1E8CmCXCjip",
        "outputId": "e38c5051-17a8-484a-f5a2-85bb5b7e384a"
      },
      "id": "g1E8CmCXCjip",
      "execution_count": 65,
      "outputs": [
        {
          "output_type": "stream",
          "name": "stdout",
          "text": [
            "Looking in indexes: https://pypi.org/simple, https://us-python.pkg.dev/colab-wheels/public/simple/\n",
            "Requirement already satisfied: nltk in /usr/local/lib/python3.8/dist-packages (3.7)\n",
            "Requirement already satisfied: scikit-learn in /usr/local/lib/python3.8/dist-packages (1.0.2)\n",
            "Requirement already satisfied: regex in /usr/local/lib/python3.8/dist-packages (2022.6.2)\n",
            "Requirement already satisfied: numpy in /usr/local/lib/python3.8/dist-packages (1.22.4)\n",
            "Requirement already satisfied: pandas in /usr/local/lib/python3.8/dist-packages (1.3.5)\n",
            "Requirement already satisfied: joblib in /usr/local/lib/python3.8/dist-packages (from nltk) (1.2.0)\n",
            "Requirement already satisfied: click in /usr/local/lib/python3.8/dist-packages (from nltk) (7.1.2)\n",
            "Requirement already satisfied: tqdm in /usr/local/lib/python3.8/dist-packages (from nltk) (4.64.1)\n",
            "Requirement already satisfied: threadpoolctl>=2.0.0 in /usr/local/lib/python3.8/dist-packages (from scikit-learn) (3.1.0)\n",
            "Requirement already satisfied: scipy>=1.1.0 in /usr/local/lib/python3.8/dist-packages (from scikit-learn) (1.7.3)\n",
            "Requirement already satisfied: python-dateutil>=2.7.3 in /usr/local/lib/python3.8/dist-packages (from pandas) (2.8.2)\n",
            "Requirement already satisfied: pytz>=2017.3 in /usr/local/lib/python3.8/dist-packages (from pandas) (2022.7.1)\n",
            "Requirement already satisfied: six>=1.5 in /usr/local/lib/python3.8/dist-packages (from python-dateutil>=2.7.3->pandas) (1.15.0)\n"
          ]
        }
      ]
    },
    {
      "cell_type": "code",
      "execution_count": 66,
      "id": "452411ce",
      "metadata": {
        "execution": {
          "iopub.execute_input": "2022-08-01T09:09:20.007944Z",
          "iopub.status.busy": "2022-08-01T09:09:20.006611Z",
          "iopub.status.idle": "2022-08-01T09:09:22.169433Z",
          "shell.execute_reply": "2022-08-01T09:09:22.168226Z"
        },
        "papermill": {
          "duration": 2.180804,
          "end_time": "2022-08-01T09:09:22.172535",
          "exception": false,
          "start_time": "2022-08-01T09:09:19.991731",
          "status": "completed"
        },
        "tags": [],
        "id": "452411ce"
      },
      "outputs": [],
      "source": [
        "import pandas as pd\n",
        "import numpy as np\n",
        "import nltk \n",
        "from nltk.stem import WordNetLemmatizer\n",
        "from nltk.corpus import stopwords\n",
        "import re\n",
        "from sklearn.model_selection import train_test_split\n",
        "from sklearn.metrics import classification_report \n",
        "from sklearn.feature_extraction.text import CountVectorizer\n",
        "from sklearn.feature_extraction.text import TfidfVectorizer"
      ]
    },
    {
      "cell_type": "code",
      "execution_count": 67,
      "id": "6da5585a",
      "metadata": {
        "execution": {
          "iopub.execute_input": "2022-08-01T09:09:22.197404Z",
          "iopub.status.busy": "2022-08-01T09:09:22.196967Z",
          "iopub.status.idle": "2022-08-01T09:09:22.639862Z",
          "shell.execute_reply": "2022-08-01T09:09:22.638473Z"
        },
        "papermill": {
          "duration": 0.458471,
          "end_time": "2022-08-01T09:09:22.642817",
          "exception": false,
          "start_time": "2022-08-01T09:09:22.184346",
          "status": "completed"
        },
        "tags": [],
        "colab": {
          "base_uri": "https://localhost:8080/",
          "height": 206
        },
        "id": "6da5585a",
        "outputId": "5fe12449-e823-453a-8cd3-d8d551af9701"
      },
      "outputs": [
        {
          "output_type": "execute_result",
          "data": {
            "text/plain": [
              "   CATEGORY                                            MESSAGE  \\\n",
              "0         1  Dear Homeowner,\\n\\n \\n\\nInterest Rates are at ...   \n",
              "1         1  ATTENTION: This is a MUST for ALL Computer Use...   \n",
              "2         1  This is a multi-part message in MIME format.\\n...   \n",
              "3         1  IMPORTANT INFORMATION:\\n\\n\\n\\nThe new domain n...   \n",
              "4         1  This is the bottom line.  If you can GIVE AWAY...   \n",
              "\n",
              "                                FILE_NAME  \n",
              "0  00249.5f45607c1bffe89f60ba1ec9f878039a  \n",
              "1  00373.ebe8670ac56b04125c25100a36ab0510  \n",
              "2  00214.1367039e50dc6b7adb0f2aa8aba83216  \n",
              "3  00210.050ffd105bd4e006771ee63cabc59978  \n",
              "4  00033.9babb58d9298daa2963d4f514193d7d6  "
            ],
            "text/html": [
              "\n",
              "  <div id=\"df-f19e92ca-5304-497a-88d7-a0bdad43bcdc\">\n",
              "    <div class=\"colab-df-container\">\n",
              "      <div>\n",
              "<style scoped>\n",
              "    .dataframe tbody tr th:only-of-type {\n",
              "        vertical-align: middle;\n",
              "    }\n",
              "\n",
              "    .dataframe tbody tr th {\n",
              "        vertical-align: top;\n",
              "    }\n",
              "\n",
              "    .dataframe thead th {\n",
              "        text-align: right;\n",
              "    }\n",
              "</style>\n",
              "<table border=\"1\" class=\"dataframe\">\n",
              "  <thead>\n",
              "    <tr style=\"text-align: right;\">\n",
              "      <th></th>\n",
              "      <th>CATEGORY</th>\n",
              "      <th>MESSAGE</th>\n",
              "      <th>FILE_NAME</th>\n",
              "    </tr>\n",
              "  </thead>\n",
              "  <tbody>\n",
              "    <tr>\n",
              "      <th>0</th>\n",
              "      <td>1</td>\n",
              "      <td>Dear Homeowner,\\n\\n \\n\\nInterest Rates are at ...</td>\n",
              "      <td>00249.5f45607c1bffe89f60ba1ec9f878039a</td>\n",
              "    </tr>\n",
              "    <tr>\n",
              "      <th>1</th>\n",
              "      <td>1</td>\n",
              "      <td>ATTENTION: This is a MUST for ALL Computer Use...</td>\n",
              "      <td>00373.ebe8670ac56b04125c25100a36ab0510</td>\n",
              "    </tr>\n",
              "    <tr>\n",
              "      <th>2</th>\n",
              "      <td>1</td>\n",
              "      <td>This is a multi-part message in MIME format.\\n...</td>\n",
              "      <td>00214.1367039e50dc6b7adb0f2aa8aba83216</td>\n",
              "    </tr>\n",
              "    <tr>\n",
              "      <th>3</th>\n",
              "      <td>1</td>\n",
              "      <td>IMPORTANT INFORMATION:\\n\\n\\n\\nThe new domain n...</td>\n",
              "      <td>00210.050ffd105bd4e006771ee63cabc59978</td>\n",
              "    </tr>\n",
              "    <tr>\n",
              "      <th>4</th>\n",
              "      <td>1</td>\n",
              "      <td>This is the bottom line.  If you can GIVE AWAY...</td>\n",
              "      <td>00033.9babb58d9298daa2963d4f514193d7d6</td>\n",
              "    </tr>\n",
              "  </tbody>\n",
              "</table>\n",
              "</div>\n",
              "      <button class=\"colab-df-convert\" onclick=\"convertToInteractive('df-f19e92ca-5304-497a-88d7-a0bdad43bcdc')\"\n",
              "              title=\"Convert this dataframe to an interactive table.\"\n",
              "              style=\"display:none;\">\n",
              "        \n",
              "  <svg xmlns=\"http://www.w3.org/2000/svg\" height=\"24px\"viewBox=\"0 0 24 24\"\n",
              "       width=\"24px\">\n",
              "    <path d=\"M0 0h24v24H0V0z\" fill=\"none\"/>\n",
              "    <path d=\"M18.56 5.44l.94 2.06.94-2.06 2.06-.94-2.06-.94-.94-2.06-.94 2.06-2.06.94zm-11 1L8.5 8.5l.94-2.06 2.06-.94-2.06-.94L8.5 2.5l-.94 2.06-2.06.94zm10 10l.94 2.06.94-2.06 2.06-.94-2.06-.94-.94-2.06-.94 2.06-2.06.94z\"/><path d=\"M17.41 7.96l-1.37-1.37c-.4-.4-.92-.59-1.43-.59-.52 0-1.04.2-1.43.59L10.3 9.45l-7.72 7.72c-.78.78-.78 2.05 0 2.83L4 21.41c.39.39.9.59 1.41.59.51 0 1.02-.2 1.41-.59l7.78-7.78 2.81-2.81c.8-.78.8-2.07 0-2.86zM5.41 20L4 18.59l7.72-7.72 1.47 1.35L5.41 20z\"/>\n",
              "  </svg>\n",
              "      </button>\n",
              "      \n",
              "  <style>\n",
              "    .colab-df-container {\n",
              "      display:flex;\n",
              "      flex-wrap:wrap;\n",
              "      gap: 12px;\n",
              "    }\n",
              "\n",
              "    .colab-df-convert {\n",
              "      background-color: #E8F0FE;\n",
              "      border: none;\n",
              "      border-radius: 50%;\n",
              "      cursor: pointer;\n",
              "      display: none;\n",
              "      fill: #1967D2;\n",
              "      height: 32px;\n",
              "      padding: 0 0 0 0;\n",
              "      width: 32px;\n",
              "    }\n",
              "\n",
              "    .colab-df-convert:hover {\n",
              "      background-color: #E2EBFA;\n",
              "      box-shadow: 0px 1px 2px rgba(60, 64, 67, 0.3), 0px 1px 3px 1px rgba(60, 64, 67, 0.15);\n",
              "      fill: #174EA6;\n",
              "    }\n",
              "\n",
              "    [theme=dark] .colab-df-convert {\n",
              "      background-color: #3B4455;\n",
              "      fill: #D2E3FC;\n",
              "    }\n",
              "\n",
              "    [theme=dark] .colab-df-convert:hover {\n",
              "      background-color: #434B5C;\n",
              "      box-shadow: 0px 1px 3px 1px rgba(0, 0, 0, 0.15);\n",
              "      filter: drop-shadow(0px 1px 2px rgba(0, 0, 0, 0.3));\n",
              "      fill: #FFFFFF;\n",
              "    }\n",
              "  </style>\n",
              "\n",
              "      <script>\n",
              "        const buttonEl =\n",
              "          document.querySelector('#df-f19e92ca-5304-497a-88d7-a0bdad43bcdc button.colab-df-convert');\n",
              "        buttonEl.style.display =\n",
              "          google.colab.kernel.accessAllowed ? 'block' : 'none';\n",
              "\n",
              "        async function convertToInteractive(key) {\n",
              "          const element = document.querySelector('#df-f19e92ca-5304-497a-88d7-a0bdad43bcdc');\n",
              "          const dataTable =\n",
              "            await google.colab.kernel.invokeFunction('convertToInteractive',\n",
              "                                                     [key], {});\n",
              "          if (!dataTable) return;\n",
              "\n",
              "          const docLinkHtml = 'Like what you see? Visit the ' +\n",
              "            '<a target=\"_blank\" href=https://colab.research.google.com/notebooks/data_table.ipynb>data table notebook</a>'\n",
              "            + ' to learn more about interactive tables.';\n",
              "          element.innerHTML = '';\n",
              "          dataTable['output_type'] = 'display_data';\n",
              "          await google.colab.output.renderOutput(dataTable, element);\n",
              "          const docLink = document.createElement('div');\n",
              "          docLink.innerHTML = docLinkHtml;\n",
              "          element.appendChild(docLink);\n",
              "        }\n",
              "      </script>\n",
              "    </div>\n",
              "  </div>\n",
              "  "
            ]
          },
          "metadata": {},
          "execution_count": 67
        }
      ],
      "source": [
        "df=pd.read_csv('/content/Spam Email raw text for NLP.csv')\n",
        "df.head()"
      ]
    },
    {
      "cell_type": "code",
      "execution_count": 68,
      "id": "9ac7bed1",
      "metadata": {
        "execution": {
          "iopub.execute_input": "2022-08-01T09:09:22.669036Z",
          "iopub.status.busy": "2022-08-01T09:09:22.668658Z",
          "iopub.status.idle": "2022-08-01T09:09:22.681899Z",
          "shell.execute_reply": "2022-08-01T09:09:22.680635Z"
        },
        "papermill": {
          "duration": 0.029005,
          "end_time": "2022-08-01T09:09:22.684496",
          "exception": false,
          "start_time": "2022-08-01T09:09:22.655491",
          "status": "completed"
        },
        "tags": [],
        "id": "9ac7bed1"
      },
      "outputs": [],
      "source": [
        "df.drop('FILE_NAME',axis=1,inplace=True)"
      ]
    },
    {
      "cell_type": "code",
      "execution_count": 69,
      "id": "54014101",
      "metadata": {
        "execution": {
          "iopub.execute_input": "2022-08-01T09:09:22.710113Z",
          "iopub.status.busy": "2022-08-01T09:09:22.709626Z",
          "iopub.status.idle": "2022-08-01T09:09:22.722911Z",
          "shell.execute_reply": "2022-08-01T09:09:22.721568Z"
        },
        "papermill": {
          "duration": 0.028258,
          "end_time": "2022-08-01T09:09:22.725318",
          "exception": false,
          "start_time": "2022-08-01T09:09:22.697060",
          "status": "completed"
        },
        "tags": [],
        "colab": {
          "base_uri": "https://localhost:8080/"
        },
        "id": "54014101",
        "outputId": "6290542a-8acf-4b46-c6e1-b79f581b0bfb"
      },
      "outputs": [
        {
          "output_type": "execute_result",
          "data": {
            "text/plain": [
              "0    3900\n",
              "1    1896\n",
              "Name: CATEGORY, dtype: int64"
            ]
          },
          "metadata": {},
          "execution_count": 69
        }
      ],
      "source": [
        "df.CATEGORY.value_counts()"
      ]
    },
    {
      "cell_type": "code",
      "execution_count": 70,
      "id": "742b7577",
      "metadata": {
        "execution": {
          "iopub.execute_input": "2022-08-01T09:09:22.793226Z",
          "iopub.status.busy": "2022-08-01T09:09:22.792205Z",
          "iopub.status.idle": "2022-08-01T09:09:22.803755Z",
          "shell.execute_reply": "2022-08-01T09:09:22.802240Z"
        },
        "papermill": {
          "duration": 0.028553,
          "end_time": "2022-08-01T09:09:22.806736",
          "exception": false,
          "start_time": "2022-08-01T09:09:22.778183",
          "status": "completed"
        },
        "tags": [],
        "colab": {
          "base_uri": "https://localhost:8080/"
        },
        "id": "742b7577",
        "outputId": "27872d10-273e-4c01-ddb9-d8baa30a071a"
      },
      "outputs": [
        {
          "output_type": "stream",
          "name": "stderr",
          "text": [
            "[nltk_data] Downloading package stopwords to /root/nltk_data...\n",
            "[nltk_data]   Package stopwords is already up-to-date!\n"
          ]
        }
      ],
      "source": [
        "nltk.download('stopwords')\n",
        "stopword = nltk.corpus.stopwords.words('english')\n"
      ]
    },
    {
      "cell_type": "code",
      "execution_count": 71,
      "id": "abbbdce6",
      "metadata": {
        "execution": {
          "iopub.execute_input": "2022-08-01T09:09:22.833633Z",
          "iopub.status.busy": "2022-08-01T09:09:22.832880Z",
          "iopub.status.idle": "2022-08-01T09:09:23.870132Z",
          "shell.execute_reply": "2022-08-01T09:09:23.868900Z"
        },
        "papermill": {
          "duration": 1.053905,
          "end_time": "2022-08-01T09:09:23.873210",
          "exception": false,
          "start_time": "2022-08-01T09:09:22.819305",
          "status": "completed"
        },
        "tags": [],
        "colab": {
          "base_uri": "https://localhost:8080/"
        },
        "id": "abbbdce6",
        "outputId": "eb19dee0-73c7-4236-f62f-99cd61f71f56"
      },
      "outputs": [
        {
          "output_type": "stream",
          "name": "stderr",
          "text": [
            "[nltk_data] Downloading package omw-1.4 to /root/nltk_data...\n",
            "[nltk_data]   Package omw-1.4 is already up-to-date!\n"
          ]
        },
        {
          "output_type": "execute_result",
          "data": {
            "text/plain": [
              "True"
            ]
          },
          "metadata": {},
          "execution_count": 71
        }
      ],
      "source": [
        "nltk.download('omw-1.4')"
      ]
    },
    {
      "cell_type": "code",
      "execution_count": 72,
      "id": "afe64c97",
      "metadata": {
        "execution": {
          "iopub.execute_input": "2022-08-01T09:09:23.900894Z",
          "iopub.status.busy": "2022-08-01T09:09:23.900455Z",
          "iopub.status.idle": "2022-08-01T09:15:17.564797Z",
          "shell.execute_reply": "2022-08-01T09:15:17.562966Z"
        },
        "papermill": {
          "duration": 353.681303,
          "end_time": "2022-08-01T09:15:17.567767",
          "exception": false,
          "start_time": "2022-08-01T09:09:23.886464",
          "status": "completed"
        },
        "tags": [],
        "colab": {
          "base_uri": "https://localhost:8080/"
        },
        "id": "afe64c97",
        "outputId": "ae937941-bf60-456f-f0e9-54269b11830a"
      },
      "outputs": [
        {
          "output_type": "stream",
          "name": "stderr",
          "text": [
            "[nltk_data] Downloading package wordnet to /root/nltk_data...\n",
            "[nltk_data]   Package wordnet is already up-to-date!\n"
          ]
        }
      ],
      "source": [
        "nltk.download('wordnet')\n",
        "lemmatizer=WordNetLemmatizer()\n",
        "corpus=[]\n",
        "for i in range(len(df)):\n",
        "    # removing all non-alphanumeric characters\n",
        "    message=re.sub('[^a-zA-Z0-9]',' ',df['MESSAGE'][i]) \n",
        "    # converting the message to lowercase\n",
        "    message=message.lower() \n",
        "    # spliting the sentence into words for lemmatization                 \n",
        "    message=message.split()      \n",
        "    # removing stopwords and lemmatizing            \n",
        "    message=[lemmatizer.lemmatize(word) for word in message\n",
        "             if word not in set(stopwords.words('english'))] \n",
        "    # Converting the words back into sentences\n",
        "    message=' '.join(message)    \n",
        "    # Adding the preprocessed message to the corpus list            \n",
        "    corpus.append(message)                 \n"
      ]
    },
    {
      "cell_type": "markdown",
      "id": "43668036",
      "metadata": {
        "papermill": {
          "duration": 0.015681,
          "end_time": "2022-08-01T09:15:26.794690",
          "exception": false,
          "start_time": "2022-08-01T09:15:26.779009",
          "status": "completed"
        },
        "tags": [],
        "id": "43668036"
      },
      "source": [
        "## 1:Using Bag of Words"
      ]
    },
    {
      "cell_type": "code",
      "execution_count": 73,
      "id": "fa94f89b",
      "metadata": {
        "execution": {
          "iopub.execute_input": "2022-08-01T09:15:26.829556Z",
          "iopub.status.busy": "2022-08-01T09:15:26.828705Z",
          "iopub.status.idle": "2022-08-01T09:15:36.304280Z",
          "shell.execute_reply": "2022-08-01T09:15:36.303029Z"
        },
        "papermill": {
          "duration": 9.496483,
          "end_time": "2022-08-01T09:15:36.307174",
          "exception": false,
          "start_time": "2022-08-01T09:15:26.810691",
          "status": "completed"
        },
        "tags": [],
        "id": "fa94f89b"
      },
      "outputs": [],
      "source": [
        " # Take the top 2500 features \n",
        "cv=CountVectorizer(max_features=2500,ngram_range=(1,3))\n",
        "X=cv.fit_transform(corpus).toarray()\n",
        "y=df['CATEGORY']"
      ]
    },
    {
      "cell_type": "code",
      "execution_count": 74,
      "id": "e90b6698",
      "metadata": {
        "execution": {
          "iopub.execute_input": "2022-08-01T09:15:36.342272Z",
          "iopub.status.busy": "2022-08-01T09:15:36.341553Z",
          "iopub.status.idle": "2022-08-01T09:15:36.396872Z",
          "shell.execute_reply": "2022-08-01T09:15:36.395677Z"
        },
        "papermill": {
          "duration": 0.07569,
          "end_time": "2022-08-01T09:15:36.399509",
          "exception": false,
          "start_time": "2022-08-01T09:15:36.323819",
          "status": "completed"
        },
        "tags": [],
        "id": "e90b6698"
      },
      "outputs": [],
      "source": [
        "x_train,x_test,y_train,y_test=train_test_split(\n",
        "    X,y,test_size=0.20,random_state=1,stratify=y)"
      ]
    },
    {
      "cell_type": "markdown",
      "id": "3332fdfe",
      "metadata": {
        "papermill": {
          "duration": 0.016065,
          "end_time": "2022-08-01T09:15:41.137864",
          "exception": false,
          "start_time": "2022-08-01T09:15:41.121799",
          "status": "completed"
        },
        "tags": [],
        "id": "3332fdfe"
      },
      "source": [
        "## 2:Using TF-IDF Technique"
      ]
    },
    {
      "cell_type": "code",
      "execution_count": 75,
      "id": "43e5febe",
      "metadata": {
        "execution": {
          "iopub.execute_input": "2022-08-01T09:15:41.213515Z",
          "iopub.status.busy": "2022-08-01T09:15:41.213078Z",
          "iopub.status.idle": "2022-08-01T09:15:50.936232Z",
          "shell.execute_reply": "2022-08-01T09:15:50.934763Z"
        },
        "papermill": {
          "duration": 9.743791,
          "end_time": "2022-08-01T09:15:50.939263",
          "exception": false,
          "start_time": "2022-08-01T09:15:41.195472",
          "status": "completed"
        },
        "tags": [],
        "id": "43e5febe"
      },
      "outputs": [],
      "source": [
        "tf=TfidfVectorizer(ngram_range=(1,3),max_features=2500)\n",
        "X=tf.fit_transform(corpus).toarray()\n",
        "x_train,x_test,y_train,y_test=train_test_split(X,y,test_size=0.20,random_state=1,stratify=y)"
      ]
    },
    {
      "cell_type": "markdown",
      "id": "09d32a8d",
      "metadata": {
        "papermill": {
          "duration": 0.016548,
          "end_time": "2022-08-01T09:15:51.102256",
          "exception": false,
          "start_time": "2022-08-01T09:15:51.085708",
          "status": "completed"
        },
        "tags": [],
        "id": "09d32a8d"
      },
      "source": [
        "### Naive Bayes model"
      ]
    },
    {
      "cell_type": "code",
      "source": [
        "from sklearn.naive_bayes import MultinomialNB\n",
        "model=MultinomialNB()"
      ],
      "metadata": {
        "id": "ZCju8emD4o4T"
      },
      "id": "ZCju8emD4o4T",
      "execution_count": 76,
      "outputs": []
    },
    {
      "cell_type": "code",
      "source": [
        "model.fit(x_train,y_train)"
      ],
      "metadata": {
        "colab": {
          "base_uri": "https://localhost:8080/"
        },
        "id": "-zMcQYjR38FQ",
        "outputId": "ebe409ec-f18c-44c0-bf14-486275707ad2"
      },
      "id": "-zMcQYjR38FQ",
      "execution_count": 77,
      "outputs": [
        {
          "output_type": "execute_result",
          "data": {
            "text/plain": [
              "MultinomialNB()"
            ]
          },
          "metadata": {},
          "execution_count": 77
        }
      ]
    },
    {
      "cell_type": "code",
      "source": [
        "train_pred=model.predict(x_train)\n",
        "test_pred=model.predict(x_test)"
      ],
      "metadata": {
        "id": "bOdTDaQf4DzB"
      },
      "id": "bOdTDaQf4DzB",
      "execution_count": 78,
      "outputs": []
    },
    {
      "cell_type": "code",
      "source": [
        "print(classification_report(train_pred,y_train))\n",
        "print(classification_report(test_pred,y_test))"
      ],
      "metadata": {
        "colab": {
          "base_uri": "https://localhost:8080/"
        },
        "id": "SjnvBa_04ETM",
        "outputId": "17967dfa-644e-4e95-9fb9-f7aa6f583203"
      },
      "id": "SjnvBa_04ETM",
      "execution_count": 79,
      "outputs": [
        {
          "output_type": "stream",
          "name": "stdout",
          "text": [
            "              precision    recall  f1-score   support\n",
            "\n",
            "           0       0.99      0.95      0.97      3258\n",
            "           1       0.89      0.98      0.94      1378\n",
            "\n",
            "    accuracy                           0.96      4636\n",
            "   macro avg       0.94      0.97      0.95      4636\n",
            "weighted avg       0.96      0.96      0.96      4636\n",
            "\n",
            "              precision    recall  f1-score   support\n",
            "\n",
            "           0       0.99      0.96      0.97       812\n",
            "           1       0.91      0.99      0.94       348\n",
            "\n",
            "    accuracy                           0.96      1160\n",
            "   macro avg       0.95      0.97      0.96      1160\n",
            "weighted avg       0.97      0.96      0.97      1160\n",
            "\n"
          ]
        }
      ]
    },
    {
      "cell_type": "code",
      "execution_count": 80,
      "id": "ef8794a9",
      "metadata": {
        "execution": {
          "iopub.execute_input": "2022-08-01T09:15:57.389987Z",
          "iopub.status.busy": "2022-08-01T09:15:57.389571Z",
          "iopub.status.idle": "2022-08-01T09:15:57.397067Z",
          "shell.execute_reply": "2022-08-01T09:15:57.395990Z"
        },
        "papermill": {
          "duration": 0.028498,
          "end_time": "2022-08-01T09:15:57.399679",
          "exception": false,
          "start_time": "2022-08-01T09:15:57.371181",
          "status": "completed"
        },
        "tags": [],
        "colab": {
          "base_uri": "https://localhost:8080/"
        },
        "id": "ef8794a9",
        "outputId": "bbe328ec-60f6-4532-e9ef-3550feda8cb2"
      },
      "outputs": [
        {
          "output_type": "stream",
          "name": "stdout",
          "text": [
            "Predicting...\n",
            "The message is spam\n"
          ]
        }
      ],
      "source": [
        "print('Predicting...')\n",
        "message = [\"You won 10000 dollars, please provide your account details,So that we can transfer the money\"]\n",
        "message_vector = tf.transform(message)\n",
        "category = model.predict(message_vector)\n",
        "print(\"The message is\", \"spam\" if category == 1 else \"not spam\")\n"
      ]
    },
    {
      "cell_type": "code",
      "execution_count": 81,
      "id": "5060a5c1",
      "metadata": {
        "execution": {
          "iopub.execute_input": "2022-08-01T09:15:57.438064Z",
          "iopub.status.busy": "2022-08-01T09:15:57.437675Z",
          "iopub.status.idle": "2022-08-01T09:15:57.445134Z",
          "shell.execute_reply": "2022-08-01T09:15:57.443794Z"
        },
        "papermill": {
          "duration": 0.028287,
          "end_time": "2022-08-01T09:15:57.447539",
          "exception": false,
          "start_time": "2022-08-01T09:15:57.419252",
          "status": "completed"
        },
        "tags": [],
        "colab": {
          "base_uri": "https://localhost:8080/"
        },
        "id": "5060a5c1",
        "outputId": "6265d5a0-dfac-40e4-ab3b-2cd4dd42f74f"
      },
      "outputs": [
        {
          "output_type": "stream",
          "name": "stdout",
          "text": [
            "Predicting...\n",
            "The message is not spam\n"
          ]
        }
      ],
      "source": [
        "print('Predicting...')\n",
        "message = [\"hey Racheal, the meeting is postponed to Monday\"]\n",
        "message_vector = tf.transform(message)\n",
        "category = model.predict(message_vector)\n",
        "print(\"The message is\", \"spam\" if category == 1 else \"not spam\")"
      ]
    }
  ],
  "metadata": {
    "kernelspec": {
      "display_name": "Python 3",
      "language": "python",
      "name": "python3"
    },
    "language_info": {
      "codemirror_mode": {
        "name": "ipython",
        "version": 3
      },
      "file_extension": ".py",
      "mimetype": "text/x-python",
      "name": "python",
      "nbconvert_exporter": "python",
      "pygments_lexer": "ipython3",
      "version": "3.7.12"
    },
    "papermill": {
      "default_parameters": {},
      "duration": 409.166196,
      "end_time": "2022-08-01T09:15:59.008964",
      "environment_variables": {},
      "exception": null,
      "input_path": "__notebook__.ipynb",
      "output_path": "__notebook__.ipynb",
      "parameters": {},
      "start_time": "2022-08-01T09:09:09.842768",
      "version": "2.3.4"
    },
    "colab": {
      "provenance": []
    },
    "gpuClass": "standard"
  },
  "nbformat": 4,
  "nbformat_minor": 5
}